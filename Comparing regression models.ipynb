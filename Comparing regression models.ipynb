{
 "cells": [
  {
   "cell_type": "markdown",
   "id": "3e4790be",
   "metadata": {},
   "source": [
    "# Lab | Comparing regression models"
   ]
  },
  {
   "cell_type": "code",
   "execution_count": 1,
   "id": "65a01450",
   "metadata": {},
   "outputs": [],
   "source": [
    "import pandas as pd\n",
    "import numpy as np"
   ]
  },
  {
   "cell_type": "code",
   "execution_count": 2,
   "id": "8154c09c",
   "metadata": {},
   "outputs": [],
   "source": [
    "pd.set_option('display.max_columns', None)"
   ]
  },
  {
   "cell_type": "code",
   "execution_count": 3,
   "id": "034374ce",
   "metadata": {},
   "outputs": [
    {
     "name": "stdout",
     "output_type": "stream",
     "text": [
      "(9129, 18)\n",
      "(9129, 8)\n"
     ]
    }
   ],
   "source": [
    "df_cat = pd.read_csv('categorical.csv')\n",
    "df_num = pd.read_csv('numerical.csv')\n",
    "print(df_cat.shape)\n",
    "print(df_num.shape)"
   ]
  },
  {
   "cell_type": "code",
   "execution_count": 4,
   "id": "b150bd23",
   "metadata": {},
   "outputs": [
    {
     "data": {
      "text/plain": [
       "(9129, 26)"
      ]
     },
     "execution_count": 4,
     "metadata": {},
     "output_type": "execute_result"
    }
   ],
   "source": [
    "df_full = pd.concat([df_cat,df_num], axis = 1)\n",
    "df_full.shape"
   ]
  },
  {
   "cell_type": "code",
   "execution_count": 5,
   "id": "07ed3461",
   "metadata": {},
   "outputs": [
    {
     "data": {
      "text/html": [
       "<div>\n",
       "<style scoped>\n",
       "    .dataframe tbody tr th:only-of-type {\n",
       "        vertical-align: middle;\n",
       "    }\n",
       "\n",
       "    .dataframe tbody tr th {\n",
       "        vertical-align: top;\n",
       "    }\n",
       "\n",
       "    .dataframe thead th {\n",
       "        text-align: right;\n",
       "    }\n",
       "</style>\n",
       "<table border=\"1\" class=\"dataframe\">\n",
       "  <thead>\n",
       "    <tr style=\"text-align: right;\">\n",
       "      <th></th>\n",
       "      <th>state</th>\n",
       "      <th>response</th>\n",
       "      <th>coverage</th>\n",
       "      <th>education</th>\n",
       "      <th>effective_to_date</th>\n",
       "      <th>employmentstatus</th>\n",
       "      <th>gender</th>\n",
       "      <th>location_code</th>\n",
       "      <th>marital_status</th>\n",
       "      <th>policy</th>\n",
       "      <th>renew_offer_type</th>\n",
       "      <th>sales_channel</th>\n",
       "      <th>vehicle_class</th>\n",
       "      <th>vehicle_size</th>\n",
       "      <th>month</th>\n",
       "      <th>year</th>\n",
       "      <th>day</th>\n",
       "      <th>week</th>\n",
       "      <th>customer_lifetime_value</th>\n",
       "      <th>income</th>\n",
       "      <th>monthly_premium_auto</th>\n",
       "      <th>months_since_last_claim</th>\n",
       "      <th>months_since_policy_inception</th>\n",
       "      <th>number_of_open_complaints</th>\n",
       "      <th>number_of_policies</th>\n",
       "      <th>total_claim_amount</th>\n",
       "    </tr>\n",
       "  </thead>\n",
       "  <tbody>\n",
       "    <tr>\n",
       "      <th>0</th>\n",
       "      <td>other</td>\n",
       "      <td>No</td>\n",
       "      <td>Basic</td>\n",
       "      <td>Bachelor</td>\n",
       "      <td>2011-02-24</td>\n",
       "      <td>Employed</td>\n",
       "      <td>F</td>\n",
       "      <td>Suburban</td>\n",
       "      <td>Married</td>\n",
       "      <td>Corporate</td>\n",
       "      <td>Offer1</td>\n",
       "      <td>Agent</td>\n",
       "      <td>Two-Door Car</td>\n",
       "      <td>Medsize</td>\n",
       "      <td>2</td>\n",
       "      <td>2011</td>\n",
       "      <td>3</td>\n",
       "      <td>8</td>\n",
       "      <td>2763.519279</td>\n",
       "      <td>56274.000000</td>\n",
       "      <td>69</td>\n",
       "      <td>32</td>\n",
       "      <td>5</td>\n",
       "      <td>0</td>\n",
       "      <td>1</td>\n",
       "      <td>384.811147</td>\n",
       "    </tr>\n",
       "    <tr>\n",
       "      <th>1</th>\n",
       "      <td>Arizona</td>\n",
       "      <td>No</td>\n",
       "      <td>Extended</td>\n",
       "      <td>Bachelor</td>\n",
       "      <td>2011-01-31</td>\n",
       "      <td>Unemployed</td>\n",
       "      <td>F</td>\n",
       "      <td>Suburban</td>\n",
       "      <td>Single</td>\n",
       "      <td>Personal L3</td>\n",
       "      <td>Offer3</td>\n",
       "      <td>Agent</td>\n",
       "      <td>Four-Door Car</td>\n",
       "      <td>Medsize</td>\n",
       "      <td>1</td>\n",
       "      <td>2011</td>\n",
       "      <td>0</td>\n",
       "      <td>5</td>\n",
       "      <td>6979.535903</td>\n",
       "      <td>37657.380009</td>\n",
       "      <td>94</td>\n",
       "      <td>13</td>\n",
       "      <td>42</td>\n",
       "      <td>0</td>\n",
       "      <td>8</td>\n",
       "      <td>1131.464935</td>\n",
       "    </tr>\n",
       "    <tr>\n",
       "      <th>2</th>\n",
       "      <td>other</td>\n",
       "      <td>No</td>\n",
       "      <td>Premium</td>\n",
       "      <td>Bachelor</td>\n",
       "      <td>2011-02-19</td>\n",
       "      <td>Employed</td>\n",
       "      <td>F</td>\n",
       "      <td>Suburban</td>\n",
       "      <td>Married</td>\n",
       "      <td>Personal L3</td>\n",
       "      <td>Offer1</td>\n",
       "      <td>Agent</td>\n",
       "      <td>Two-Door Car</td>\n",
       "      <td>Medsize</td>\n",
       "      <td>2</td>\n",
       "      <td>2011</td>\n",
       "      <td>5</td>\n",
       "      <td>7</td>\n",
       "      <td>12887.431650</td>\n",
       "      <td>48767.000000</td>\n",
       "      <td>108</td>\n",
       "      <td>18</td>\n",
       "      <td>38</td>\n",
       "      <td>0</td>\n",
       "      <td>2</td>\n",
       "      <td>566.472247</td>\n",
       "    </tr>\n",
       "    <tr>\n",
       "      <th>3</th>\n",
       "      <td>California</td>\n",
       "      <td>No</td>\n",
       "      <td>Basic</td>\n",
       "      <td>Bachelor</td>\n",
       "      <td>2011-01-20</td>\n",
       "      <td>Unemployed</td>\n",
       "      <td>M</td>\n",
       "      <td>Suburban</td>\n",
       "      <td>Married</td>\n",
       "      <td>Corporate</td>\n",
       "      <td>Offer1</td>\n",
       "      <td>Call Center</td>\n",
       "      <td>SUV</td>\n",
       "      <td>Medsize</td>\n",
       "      <td>1</td>\n",
       "      <td>2011</td>\n",
       "      <td>3</td>\n",
       "      <td>3</td>\n",
       "      <td>7645.861827</td>\n",
       "      <td>37657.380009</td>\n",
       "      <td>106</td>\n",
       "      <td>18</td>\n",
       "      <td>65</td>\n",
       "      <td>0</td>\n",
       "      <td>7</td>\n",
       "      <td>529.881344</td>\n",
       "    </tr>\n",
       "    <tr>\n",
       "      <th>4</th>\n",
       "      <td>other</td>\n",
       "      <td>No</td>\n",
       "      <td>Basic</td>\n",
       "      <td>Bachelor</td>\n",
       "      <td>2011-02-03</td>\n",
       "      <td>Employed</td>\n",
       "      <td>M</td>\n",
       "      <td>Rural</td>\n",
       "      <td>Single</td>\n",
       "      <td>Personal L1</td>\n",
       "      <td>Offer1</td>\n",
       "      <td>Agent</td>\n",
       "      <td>Four-Door Car</td>\n",
       "      <td>Medsize</td>\n",
       "      <td>2</td>\n",
       "      <td>2011</td>\n",
       "      <td>3</td>\n",
       "      <td>5</td>\n",
       "      <td>2813.692575</td>\n",
       "      <td>43836.000000</td>\n",
       "      <td>73</td>\n",
       "      <td>12</td>\n",
       "      <td>44</td>\n",
       "      <td>0</td>\n",
       "      <td>1</td>\n",
       "      <td>138.130879</td>\n",
       "    </tr>\n",
       "  </tbody>\n",
       "</table>\n",
       "</div>"
      ],
      "text/plain": [
       "        state response  coverage education effective_to_date employmentstatus  \\\n",
       "0       other       No     Basic  Bachelor        2011-02-24         Employed   \n",
       "1     Arizona       No  Extended  Bachelor        2011-01-31       Unemployed   \n",
       "2       other       No   Premium  Bachelor        2011-02-19         Employed   \n",
       "3  California       No     Basic  Bachelor        2011-01-20       Unemployed   \n",
       "4       other       No     Basic  Bachelor        2011-02-03         Employed   \n",
       "\n",
       "  gender location_code marital_status       policy renew_offer_type  \\\n",
       "0      F      Suburban        Married    Corporate           Offer1   \n",
       "1      F      Suburban         Single  Personal L3           Offer3   \n",
       "2      F      Suburban        Married  Personal L3           Offer1   \n",
       "3      M      Suburban        Married    Corporate           Offer1   \n",
       "4      M         Rural         Single  Personal L1           Offer1   \n",
       "\n",
       "  sales_channel  vehicle_class vehicle_size  month  year  day  week  \\\n",
       "0         Agent   Two-Door Car      Medsize      2  2011    3     8   \n",
       "1         Agent  Four-Door Car      Medsize      1  2011    0     5   \n",
       "2         Agent   Two-Door Car      Medsize      2  2011    5     7   \n",
       "3   Call Center            SUV      Medsize      1  2011    3     3   \n",
       "4         Agent  Four-Door Car      Medsize      2  2011    3     5   \n",
       "\n",
       "   customer_lifetime_value        income  monthly_premium_auto  \\\n",
       "0              2763.519279  56274.000000                    69   \n",
       "1              6979.535903  37657.380009                    94   \n",
       "2             12887.431650  48767.000000                   108   \n",
       "3              7645.861827  37657.380009                   106   \n",
       "4              2813.692575  43836.000000                    73   \n",
       "\n",
       "   months_since_last_claim  months_since_policy_inception  \\\n",
       "0                       32                              5   \n",
       "1                       13                             42   \n",
       "2                       18                             38   \n",
       "3                       18                             65   \n",
       "4                       12                             44   \n",
       "\n",
       "   number_of_open_complaints  number_of_policies  total_claim_amount  \n",
       "0                          0                   1          384.811147  \n",
       "1                          0                   8         1131.464935  \n",
       "2                          0                   2          566.472247  \n",
       "3                          0                   7          529.881344  \n",
       "4                          0                   1          138.130879  "
      ]
     },
     "execution_count": 5,
     "metadata": {},
     "output_type": "execute_result"
    }
   ],
   "source": [
    "df_full.head()"
   ]
  },
  {
   "cell_type": "code",
   "execution_count": 6,
   "id": "ee2d0ac4",
   "metadata": {},
   "outputs": [],
   "source": [
    "# Dropping effective_to_date since we have the same info in other columns by now\n",
    "df_full.drop('effective_to_date', axis = 1, inplace = True)"
   ]
  },
  {
   "cell_type": "markdown",
   "id": "e430bcf7",
   "metadata": {},
   "source": [
    "# 1. In this final lab, we will model our data. \n",
    "Import sklearn train_test_split and separate the data."
   ]
  },
  {
   "cell_type": "markdown",
   "id": "bcbf5d82",
   "metadata": {},
   "source": [
    "#### X-y Split"
   ]
  },
  {
   "cell_type": "code",
   "execution_count": 7,
   "id": "9207285e",
   "metadata": {},
   "outputs": [],
   "source": [
    "y = df_full['total_claim_amount']\n",
    "X = df_full.drop(['total_claim_amount'], axis=1)"
   ]
  },
  {
   "cell_type": "markdown",
   "id": "ed715436",
   "metadata": {},
   "source": [
    "#### Train-Test-Split"
   ]
  },
  {
   "cell_type": "code",
   "execution_count": 8,
   "id": "40c3dff5",
   "metadata": {},
   "outputs": [],
   "source": [
    "from sklearn.model_selection import train_test_split\n",
    "X_train, X_test, y_train, y_test = train_test_split(X, y, test_size=0.2, random_state=42)"
   ]
  },
  {
   "cell_type": "markdown",
   "id": "979dc374",
   "metadata": {},
   "source": [
    "# 2. Separate X_train and X_test into numerical and categorical\n",
    "(X_train_cat , X_train_num , X_test_cat , X_test_num)"
   ]
  },
  {
   "cell_type": "code",
   "execution_count": 9,
   "id": "60ac2bc2",
   "metadata": {},
   "outputs": [],
   "source": [
    "X_train_num = X_train.select_dtypes('number')\n",
    "X_train_cat = X_train.select_dtypes(object)\n",
    "\n",
    "X_test_num = X_test.select_dtypes('number')\n",
    "X_test_cat = X_test.select_dtypes(object)"
   ]
  },
  {
   "cell_type": "markdown",
   "id": "084eadaa",
   "metadata": {},
   "source": [
    "# 3. Use X_train_num to fit scalers. \n",
    "Transform BOTH X_train_num and X_test_num."
   ]
  },
  {
   "cell_type": "code",
   "execution_count": 10,
   "id": "15634312",
   "metadata": {},
   "outputs": [],
   "source": [
    "# We use MinMax Scaler\n",
    "from sklearn.preprocessing import MinMaxScaler"
   ]
  },
  {
   "cell_type": "code",
   "execution_count": 11,
   "id": "fdd494fd",
   "metadata": {},
   "outputs": [],
   "source": [
    "# Creating transformer\n",
    "transformer = MinMaxScaler().fit(X_train_num)"
   ]
  },
  {
   "cell_type": "code",
   "execution_count": 12,
   "id": "f53523d8",
   "metadata": {},
   "outputs": [],
   "source": [
    "# Scaling\n",
    "X_train_scaled = pd.DataFrame(transformer.transform(X_train_num), columns=X_train_num.columns)\n",
    "X_test_scaled = pd.DataFrame(transformer.transform(X_test_num), columns=X_test_num.columns)"
   ]
  },
  {
   "cell_type": "markdown",
   "id": "3eb994ba",
   "metadata": {},
   "source": [
    "# 4. Encode the categorical variables X_train_cat and X_test_cat \n",
    "(See the hint below for encoding categorical data!!!)"
   ]
  },
  {
   "cell_type": "markdown",
   "id": "bee5aab4",
   "metadata": {},
   "source": [
    "## 4.1 Ordinal Encoding"
   ]
  },
  {
   "cell_type": "code",
   "execution_count": 13,
   "id": "179ff10b",
   "metadata": {},
   "outputs": [],
   "source": [
    "ordinal_list = ['coverage','employmentstatus', 'location_code', 'vehicle_size']"
   ]
  },
  {
   "cell_type": "code",
   "execution_count": 14,
   "id": "e0c46be4",
   "metadata": {},
   "outputs": [],
   "source": [
    "# We have to seperate out the columns we use for ordinal encoding\n",
    "X_train_ordin = X_train_cat[ordinal_list].copy()\n",
    "X_test_ordin = X_test_cat[ordinal_list].copy()"
   ]
  },
  {
   "cell_type": "code",
   "execution_count": 15,
   "id": "46e89542",
   "metadata": {},
   "outputs": [],
   "source": [
    "# Encoding\n",
    "X_train_ordin[\"coverage\"] = X_train_ordin[\"coverage\"].map({\"Basic\" : 0, \"Extended\" : 1, \"Premium\" : 2})\n",
    "X_test_ordin[\"coverage\"] = X_test_ordin[\"coverage\"].map({\"Basic\" : 0, \"Extended\" : 1, \"Premium\" : 2})\n",
    "\n",
    "X_train_ordin[\"employmentstatus\"] = X_train_ordin[\"employmentstatus\"].map({\"Unemployed\" : 0, \"other\" : 1, \"Employed\" : 2})\n",
    "X_test_ordin[\"employmentstatus\"] = X_test_ordin[\"employmentstatus\"].map({\"Unemployed\" : 0, \"other\" : 1, \"Employed\" : 2})\n",
    "\n",
    "X_train_ordin[\"location_code\"] = X_train_ordin[\"location_code\"].map({\"Rural\" : 0, \"Suburban\" : 1, \"Urban\" : 2})\n",
    "X_test_ordin[\"location_code\"] = X_test_ordin[\"location_code\"].map({\"Rural\" : 0, \"Suburban\" : 1, \"Urban\" : 2})\n",
    "\n",
    "X_train_ordin[\"vehicle_size\"] = X_train_ordin[\"vehicle_size\"].map({\"Small\" : 0, \"Medsize\" : 1, \"Large\" : 2})\n",
    "X_test_ordin[\"vehicle_size\"] = X_test_ordin[\"vehicle_size\"].map({\"Small\" : 0, \"Medsize\" : 1, \"Large\" : 2})"
   ]
  },
  {
   "cell_type": "code",
   "execution_count": 33,
   "id": "56b8605b",
   "metadata": {},
   "outputs": [
    {
     "data": {
      "text/html": [
       "<div>\n",
       "<style scoped>\n",
       "    .dataframe tbody tr th:only-of-type {\n",
       "        vertical-align: middle;\n",
       "    }\n",
       "\n",
       "    .dataframe tbody tr th {\n",
       "        vertical-align: top;\n",
       "    }\n",
       "\n",
       "    .dataframe thead th {\n",
       "        text-align: right;\n",
       "    }\n",
       "</style>\n",
       "<table border=\"1\" class=\"dataframe\">\n",
       "  <thead>\n",
       "    <tr style=\"text-align: right;\">\n",
       "      <th></th>\n",
       "      <th>coverage</th>\n",
       "      <th>employmentstatus</th>\n",
       "      <th>location_code</th>\n",
       "      <th>vehicle_size</th>\n",
       "    </tr>\n",
       "  </thead>\n",
       "  <tbody>\n",
       "    <tr>\n",
       "      <th>0</th>\n",
       "      <td>0</td>\n",
       "      <td>0</td>\n",
       "      <td>1</td>\n",
       "      <td>2</td>\n",
       "    </tr>\n",
       "    <tr>\n",
       "      <th>1</th>\n",
       "      <td>1</td>\n",
       "      <td>2</td>\n",
       "      <td>1</td>\n",
       "      <td>1</td>\n",
       "    </tr>\n",
       "    <tr>\n",
       "      <th>2</th>\n",
       "      <td>2</td>\n",
       "      <td>2</td>\n",
       "      <td>1</td>\n",
       "      <td>0</td>\n",
       "    </tr>\n",
       "    <tr>\n",
       "      <th>3</th>\n",
       "      <td>0</td>\n",
       "      <td>2</td>\n",
       "      <td>1</td>\n",
       "      <td>0</td>\n",
       "    </tr>\n",
       "    <tr>\n",
       "      <th>4</th>\n",
       "      <td>1</td>\n",
       "      <td>2</td>\n",
       "      <td>1</td>\n",
       "      <td>0</td>\n",
       "    </tr>\n",
       "    <tr>\n",
       "      <th>...</th>\n",
       "      <td>...</td>\n",
       "      <td>...</td>\n",
       "      <td>...</td>\n",
       "      <td>...</td>\n",
       "    </tr>\n",
       "    <tr>\n",
       "      <th>7298</th>\n",
       "      <td>1</td>\n",
       "      <td>0</td>\n",
       "      <td>1</td>\n",
       "      <td>1</td>\n",
       "    </tr>\n",
       "    <tr>\n",
       "      <th>7299</th>\n",
       "      <td>1</td>\n",
       "      <td>0</td>\n",
       "      <td>1</td>\n",
       "      <td>1</td>\n",
       "    </tr>\n",
       "    <tr>\n",
       "      <th>7300</th>\n",
       "      <td>0</td>\n",
       "      <td>2</td>\n",
       "      <td>2</td>\n",
       "      <td>1</td>\n",
       "    </tr>\n",
       "    <tr>\n",
       "      <th>7301</th>\n",
       "      <td>1</td>\n",
       "      <td>0</td>\n",
       "      <td>1</td>\n",
       "      <td>1</td>\n",
       "    </tr>\n",
       "    <tr>\n",
       "      <th>7302</th>\n",
       "      <td>0</td>\n",
       "      <td>2</td>\n",
       "      <td>2</td>\n",
       "      <td>1</td>\n",
       "    </tr>\n",
       "  </tbody>\n",
       "</table>\n",
       "<p>7303 rows × 4 columns</p>\n",
       "</div>"
      ],
      "text/plain": [
       "      coverage  employmentstatus  location_code  vehicle_size\n",
       "0            0                 0              1             2\n",
       "1            1                 2              1             1\n",
       "2            2                 2              1             0\n",
       "3            0                 2              1             0\n",
       "4            1                 2              1             0\n",
       "...        ...               ...            ...           ...\n",
       "7298         1                 0              1             1\n",
       "7299         1                 0              1             1\n",
       "7300         0                 2              2             1\n",
       "7301         1                 0              1             1\n",
       "7302         0                 2              2             1\n",
       "\n",
       "[7303 rows x 4 columns]"
      ]
     },
     "execution_count": 33,
     "metadata": {},
     "output_type": "execute_result"
    }
   ],
   "source": [
    "X_train_ordin"
   ]
  },
  {
   "cell_type": "code",
   "execution_count": 43,
   "id": "321e779a",
   "metadata": {},
   "outputs": [],
   "source": [
    "# X_train_ordin2 = X_train_cat[ordinal_list]['coverage'].copy()\n",
    "# X_train_ordin2"
   ]
  },
  {
   "cell_type": "code",
   "execution_count": 42,
   "id": "17df3f40",
   "metadata": {},
   "outputs": [],
   "source": [
    "from sklearn.preprocessing import OrdinalEncoder\n",
    "\n",
    "\n",
    "enc = OrdinalEncoder(categories=[['Basic','Extended','Premium'],['Unemployed','other','Employed']])\n",
    "\n",
    "result = enc.fit_transform(X_train_ordin2)\n",
    "result"
   ]
  },
  {
   "cell_type": "code",
   "execution_count": null,
   "id": "927cb8cc",
   "metadata": {},
   "outputs": [],
   "source": []
  },
  {
   "cell_type": "markdown",
   "id": "3ccdf02a",
   "metadata": {},
   "source": [
    "## 4.2 OneHot Encoding"
   ]
  },
  {
   "cell_type": "code",
   "execution_count": 16,
   "id": "3f8e4847",
   "metadata": {},
   "outputs": [],
   "source": [
    "from sklearn.preprocessing import OneHotEncoder"
   ]
  },
  {
   "cell_type": "code",
   "execution_count": 17,
   "id": "72628250",
   "metadata": {},
   "outputs": [],
   "source": [
    "# Getting only the columsn for onehot encoding\n",
    "X_train_hot = X_train_cat.drop(ordinal_list, axis = 1).copy()\n",
    "X_test_hot = X_test_cat.drop(ordinal_list, axis = 1).copy()"
   ]
  },
  {
   "cell_type": "code",
   "execution_count": 18,
   "id": "04b1f83a",
   "metadata": {},
   "outputs": [],
   "source": [
    "# Fitting the encoder\n",
    "encoder = OneHotEncoder(drop='first', handle_unknown = 'ignore').fit(X_train_hot)\n",
    "column_name = encoder.get_feature_names_out(X_train_hot.columns)"
   ]
  },
  {
   "cell_type": "code",
   "execution_count": 19,
   "id": "dcdd3899",
   "metadata": {},
   "outputs": [],
   "source": [
    "# Encoding\n",
    "X_train_hot = pd.DataFrame(encoder.transform(X_train_hot).toarray(), columns = column_name)\n",
    "X_test_hot = pd.DataFrame(encoder.transform(X_test_hot).toarray(), columns = column_name)"
   ]
  },
  {
   "cell_type": "markdown",
   "id": "e8513acc",
   "metadata": {},
   "source": [
    "# 5. Since the model will only accept numerical data, check and make sure that every column is numerical, if some are not, change it using encoding."
   ]
  },
  {
   "cell_type": "markdown",
   "id": "ddd82a27",
   "metadata": {},
   "source": [
    "#### Concatenating our dataframes"
   ]
  },
  {
   "cell_type": "code",
   "execution_count": 20,
   "id": "45b9b01d",
   "metadata": {},
   "outputs": [
    {
     "data": {
      "text/html": [
       "<div>\n",
       "<style scoped>\n",
       "    .dataframe tbody tr th:only-of-type {\n",
       "        vertical-align: middle;\n",
       "    }\n",
       "\n",
       "    .dataframe tbody tr th {\n",
       "        vertical-align: top;\n",
       "    }\n",
       "\n",
       "    .dataframe thead th {\n",
       "        text-align: right;\n",
       "    }\n",
       "</style>\n",
       "<table border=\"1\" class=\"dataframe\">\n",
       "  <thead>\n",
       "    <tr style=\"text-align: right;\">\n",
       "      <th></th>\n",
       "      <th>coverage</th>\n",
       "      <th>employmentstatus</th>\n",
       "      <th>location_code</th>\n",
       "      <th>vehicle_size</th>\n",
       "    </tr>\n",
       "  </thead>\n",
       "  <tbody>\n",
       "    <tr>\n",
       "      <th>4041</th>\n",
       "      <td>0</td>\n",
       "      <td>0</td>\n",
       "      <td>1</td>\n",
       "      <td>2</td>\n",
       "    </tr>\n",
       "  </tbody>\n",
       "</table>\n",
       "</div>"
      ],
      "text/plain": [
       "      coverage  employmentstatus  location_code  vehicle_size\n",
       "4041         0                 0              1             2"
      ]
     },
     "metadata": {},
     "output_type": "display_data"
    },
    {
     "data": {
      "text/html": [
       "<div>\n",
       "<style scoped>\n",
       "    .dataframe tbody tr th:only-of-type {\n",
       "        vertical-align: middle;\n",
       "    }\n",
       "\n",
       "    .dataframe tbody tr th {\n",
       "        vertical-align: top;\n",
       "    }\n",
       "\n",
       "    .dataframe thead th {\n",
       "        text-align: right;\n",
       "    }\n",
       "</style>\n",
       "<table border=\"1\" class=\"dataframe\">\n",
       "  <thead>\n",
       "    <tr style=\"text-align: right;\">\n",
       "      <th></th>\n",
       "      <th>state_California</th>\n",
       "      <th>state_Oregon</th>\n",
       "      <th>state_other</th>\n",
       "      <th>response_Yes</th>\n",
       "      <th>education_College</th>\n",
       "      <th>education_High School or Below</th>\n",
       "      <th>education_higher education</th>\n",
       "      <th>gender_M</th>\n",
       "      <th>marital_status_Married</th>\n",
       "      <th>marital_status_Single</th>\n",
       "      <th>policy_Personal L1</th>\n",
       "      <th>policy_Personal L2</th>\n",
       "      <th>policy_Personal L3</th>\n",
       "      <th>policy_Special</th>\n",
       "      <th>renew_offer_type_Offer2</th>\n",
       "      <th>renew_offer_type_Offer3</th>\n",
       "      <th>renew_offer_type_Offer4</th>\n",
       "      <th>sales_channel_Branch</th>\n",
       "      <th>sales_channel_Call Center</th>\n",
       "      <th>sales_channel_Web</th>\n",
       "      <th>vehicle_class_Luxury Car</th>\n",
       "      <th>vehicle_class_SUV</th>\n",
       "      <th>vehicle_class_Two-Door Car</th>\n",
       "    </tr>\n",
       "  </thead>\n",
       "  <tbody>\n",
       "    <tr>\n",
       "      <th>0</th>\n",
       "      <td>0.0</td>\n",
       "      <td>1.0</td>\n",
       "      <td>0.0</td>\n",
       "      <td>0.0</td>\n",
       "      <td>1.0</td>\n",
       "      <td>0.0</td>\n",
       "      <td>0.0</td>\n",
       "      <td>1.0</td>\n",
       "      <td>0.0</td>\n",
       "      <td>1.0</td>\n",
       "      <td>0.0</td>\n",
       "      <td>0.0</td>\n",
       "      <td>0.0</td>\n",
       "      <td>1.0</td>\n",
       "      <td>0.0</td>\n",
       "      <td>0.0</td>\n",
       "      <td>1.0</td>\n",
       "      <td>0.0</td>\n",
       "      <td>0.0</td>\n",
       "      <td>1.0</td>\n",
       "      <td>0.0</td>\n",
       "      <td>1.0</td>\n",
       "      <td>0.0</td>\n",
       "    </tr>\n",
       "  </tbody>\n",
       "</table>\n",
       "</div>"
      ],
      "text/plain": [
       "   state_California  state_Oregon  state_other  response_Yes  \\\n",
       "0               0.0           1.0          0.0           0.0   \n",
       "\n",
       "   education_College  education_High School or Below  \\\n",
       "0                1.0                             0.0   \n",
       "\n",
       "   education_higher education  gender_M  marital_status_Married  \\\n",
       "0                         0.0       1.0                     0.0   \n",
       "\n",
       "   marital_status_Single  policy_Personal L1  policy_Personal L2  \\\n",
       "0                    1.0                 0.0                 0.0   \n",
       "\n",
       "   policy_Personal L3  policy_Special  renew_offer_type_Offer2  \\\n",
       "0                 0.0             1.0                      0.0   \n",
       "\n",
       "   renew_offer_type_Offer3  renew_offer_type_Offer4  sales_channel_Branch  \\\n",
       "0                      0.0                      1.0                   0.0   \n",
       "\n",
       "   sales_channel_Call Center  sales_channel_Web  vehicle_class_Luxury Car  \\\n",
       "0                        0.0                1.0                       0.0   \n",
       "\n",
       "   vehicle_class_SUV  vehicle_class_Two-Door Car  \n",
       "0                1.0                         0.0  "
      ]
     },
     "metadata": {},
     "output_type": "display_data"
    }
   ],
   "source": [
    "display(X_train_ordin.head(1))\n",
    "display(X_train_hot.head(1))"
   ]
  },
  {
   "cell_type": "code",
   "execution_count": 21,
   "id": "c005f512",
   "metadata": {},
   "outputs": [],
   "source": [
    "# Resetting indexes because of the OneHot Encoded Dataframe\n",
    "X_train_scaled = X_train_scaled.reset_index(drop = True)\n",
    "X_test_scaled.reset_index(drop = True,inplace = True)\n",
    "\n",
    "X_train_ordin.reset_index(drop = True,inplace = True)\n",
    "X_test_ordin.reset_index(drop = True,inplace = True)"
   ]
  },
  {
   "cell_type": "code",
   "execution_count": 22,
   "id": "2a459588",
   "metadata": {},
   "outputs": [],
   "source": [
    "X_train_processed = pd.concat([X_train_scaled,X_train_ordin,X_train_hot], axis = 1)\n",
    "X_test_processed = pd.concat([X_test_scaled,X_test_ordin,X_test_hot], axis = 1)"
   ]
  },
  {
   "cell_type": "code",
   "execution_count": 23,
   "id": "7e3de1d0",
   "metadata": {},
   "outputs": [
    {
     "data": {
      "text/plain": [
       "month                             float64\n",
       "year                              float64\n",
       "day                               float64\n",
       "week                              float64\n",
       "customer_lifetime_value           float64\n",
       "income                            float64\n",
       "monthly_premium_auto              float64\n",
       "months_since_last_claim           float64\n",
       "months_since_policy_inception     float64\n",
       "number_of_open_complaints         float64\n",
       "number_of_policies                float64\n",
       "coverage                            int64\n",
       "employmentstatus                    int64\n",
       "location_code                       int64\n",
       "vehicle_size                        int64\n",
       "state_California                  float64\n",
       "state_Oregon                      float64\n",
       "state_other                       float64\n",
       "response_Yes                      float64\n",
       "education_College                 float64\n",
       "education_High School or Below    float64\n",
       "education_higher education        float64\n",
       "gender_M                          float64\n",
       "marital_status_Married            float64\n",
       "marital_status_Single             float64\n",
       "policy_Personal L1                float64\n",
       "policy_Personal L2                float64\n",
       "policy_Personal L3                float64\n",
       "policy_Special                    float64\n",
       "renew_offer_type_Offer2           float64\n",
       "renew_offer_type_Offer3           float64\n",
       "renew_offer_type_Offer4           float64\n",
       "sales_channel_Branch              float64\n",
       "sales_channel_Call Center         float64\n",
       "sales_channel_Web                 float64\n",
       "vehicle_class_Luxury Car          float64\n",
       "vehicle_class_SUV                 float64\n",
       "vehicle_class_Two-Door Car        float64\n",
       "dtype: object"
      ]
     },
     "execution_count": 23,
     "metadata": {},
     "output_type": "execute_result"
    }
   ],
   "source": [
    "# They are all numbers\n",
    "X_train_processed.dtypes"
   ]
  },
  {
   "cell_type": "markdown",
   "id": "846cde2c",
   "metadata": {},
   "source": [
    "# 6. Try a simple linear regression with all the data to see whether we are getting good results."
   ]
  },
  {
   "cell_type": "code",
   "execution_count": 24,
   "id": "f6b76a32",
   "metadata": {},
   "outputs": [],
   "source": [
    "from sklearn import linear_model\n",
    "lm = linear_model.LinearRegression()"
   ]
  },
  {
   "cell_type": "code",
   "execution_count": 25,
   "id": "a1ea01a2",
   "metadata": {},
   "outputs": [],
   "source": [
    "# Fitting the model\n",
    "lm.fit(X_train_processed,y_train)\n",
    "# Making predictions\n",
    "predictions = lm.predict(X_test_processed)"
   ]
  },
  {
   "cell_type": "markdown",
   "id": "2039947b",
   "metadata": {},
   "source": [
    "#### Assessing the model"
   ]
  },
  {
   "cell_type": "code",
   "execution_count": 26,
   "id": "b43de9db",
   "metadata": {},
   "outputs": [],
   "source": [
    "from sklearn.metrics import mean_squared_error\n",
    "from sklearn.metrics import r2_score, mean_absolute_error"
   ]
  },
  {
   "cell_type": "code",
   "execution_count": 27,
   "id": "cf1d8a4e",
   "metadata": {},
   "outputs": [],
   "source": [
    "# Training Data\n",
    "# R2-Score\n",
    "predictions = lm.predict(X_train_processed)\n",
    "r2score = round(r2_score(y_train, predictions), 2)\n",
    "# Mean Square Error\n",
    "mse= round(mean_squared_error(y_train,predictions))\n",
    "# Root Mean Square Error\n",
    "rmse = round(np.sqrt(mse), 2)\n",
    "# Mean Absolute Error\n",
    "mae = round(mean_absolute_error(y_train, predictions), 2)\n",
    "# Test Data\n",
    "# R2-Score\n",
    "predictions = lm.predict(X_test_processed)\n",
    "r2scoret = round(r2_score(y_test, predictions), 2)\n",
    "# Mean Square Error\n",
    "mset= round(mean_squared_error(y_test,predictions), 2)\n",
    "# Root Mean Square Error\n",
    "rmset = round(np.sqrt(mset), 2)\n",
    "# Mean Absolute Error\n",
    "maet = round(mean_absolute_error(y_test, predictions), 2)"
   ]
  },
  {
   "cell_type": "code",
   "execution_count": 28,
   "id": "a449d5ec",
   "metadata": {},
   "outputs": [
    {
     "data": {
      "text/html": [
       "<div>\n",
       "<style scoped>\n",
       "    .dataframe tbody tr th:only-of-type {\n",
       "        vertical-align: middle;\n",
       "    }\n",
       "\n",
       "    .dataframe tbody tr th {\n",
       "        vertical-align: top;\n",
       "    }\n",
       "\n",
       "    .dataframe thead th {\n",
       "        text-align: right;\n",
       "    }\n",
       "</style>\n",
       "<table border=\"1\" class=\"dataframe\">\n",
       "  <thead>\n",
       "    <tr style=\"text-align: right;\">\n",
       "      <th></th>\n",
       "      <th>ValType</th>\n",
       "      <th>R2-Score</th>\n",
       "      <th>MSE</th>\n",
       "      <th>RMSE</th>\n",
       "      <th>MAE</th>\n",
       "    </tr>\n",
       "  </thead>\n",
       "  <tbody>\n",
       "    <tr>\n",
       "      <th>0</th>\n",
       "      <td>Train</td>\n",
       "      <td>0.63</td>\n",
       "      <td>30732.00</td>\n",
       "      <td>175.31</td>\n",
       "      <td>127.67</td>\n",
       "    </tr>\n",
       "    <tr>\n",
       "      <th>1</th>\n",
       "      <td>Test</td>\n",
       "      <td>0.62</td>\n",
       "      <td>33571.52</td>\n",
       "      <td>183.23</td>\n",
       "      <td>135.27</td>\n",
       "    </tr>\n",
       "  </tbody>\n",
       "</table>\n",
       "</div>"
      ],
      "text/plain": [
       "  ValType  R2-Score       MSE    RMSE     MAE\n",
       "0   Train      0.63  30732.00  175.31  127.67\n",
       "1    Test      0.62  33571.52  183.23  135.27"
      ]
     },
     "metadata": {},
     "output_type": "display_data"
    }
   ],
   "source": [
    "display(pd.DataFrame({'ValType': ['Train', 'Test'], 'R2-Score': [r2score, r2scoret], 'MSE': [mse, mset] , 'RMSE': [rmse, rmset], 'MAE': [mae, maet]}))"
   ]
  },
  {
   "cell_type": "markdown",
   "id": "5f6c5d06",
   "metadata": {},
   "source": [
    "# 7. Great! Now define a function that takes a list of models and train (and tests) them so we can try a lot of them without repeating code."
   ]
  },
  {
   "cell_type": "code",
   "execution_count": 29,
   "id": "7bbe634a",
   "metadata": {},
   "outputs": [],
   "source": [
    "def model_test(modellist):\n",
    "    \n",
    "    for model in modellist:\n",
    "        \n",
    "        model.fit(X_train_processed,y_train)\n",
    "        \n",
    "        \n",
    "        # Training Data\n",
    "        # R2-Score\n",
    "        predictions = model.predict(X_train_processed)\n",
    "        r2score = round(r2_score(y_train, predictions), 2)\n",
    "        # Mean Square Error\n",
    "        mse= round(mean_squared_error(y_train,predictions))\n",
    "        # Root Mean Square Error\n",
    "        rmse = round(np.sqrt(mse), 2)\n",
    "        # Mean Absolute Error\n",
    "        mae = round(mean_absolute_error(y_train, predictions), 2)\n",
    "        \n",
    "        \n",
    "        # Test Data\n",
    "        # R2-Score\n",
    "        predictions = model.predict(X_test_processed)\n",
    "        r2scoret = round(r2_score(y_test, predictions), 2)\n",
    "        # Mean Square Error\n",
    "        mset= round(mean_squared_error(y_test,predictions), 2)\n",
    "        # Root Mean Square Error\n",
    "        rmset = round(np.sqrt(mset), 2)\n",
    "        # Mean Absolute Error\n",
    "        maet = round(mean_absolute_error(y_test, predictions), 2)\n",
    "        \n",
    "        \n",
    "        display(model)\n",
    "        display(pd.DataFrame({'ValType': ['Train', 'Test'], 'R2-Score': [r2score, r2scoret], 'MSE': [mse, mset] , 'RMSE': [rmse, rmset], 'MAE': [mae, maet]}))"
   ]
  },
  {
   "cell_type": "code",
   "execution_count": 46,
   "id": "2001b391",
   "metadata": {},
   "outputs": [],
   "source": [
    "from sklearn.linear_model import ElasticNet\n",
    "from sklearn.linear_model import SGDRegressor\n",
    "from sklearn.svm import SVR\n",
    "from sklearn.linear_model import BayesianRidge\n",
    "from sklearn.kernel_ridge import KernelRidge\n",
    "from lightgbm import LGBMRegressor\n",
    "from sklearn.ensemble import GradientBoostingRegressor\n",
    "\n",
    "\n",
    "\n",
    "from sklearn.neighbors import KNeighborsRegressor\n",
    "from sklearn.linear_model import LinearRegression\n",
    "from sklearn.neural_network import MLPRegressor\n",
    "\n",
    "modellist = [ \n",
    "GradientBoostingRegressor(),\n",
    "             ElasticNet(),\n",
    "             SGDRegressor(),\n",
    "             SVR(),\n",
    "             BayesianRidge(),\n",
    "             KernelRidge(),\n",
    "             LGBMRegressor(),\n",
    "                 LinearRegression(),\n",
    "                 KNeighborsRegressor(n_neighbors  = 3),\n",
    "                 KNeighborsRegressor(n_neighbors  = 5),\n",
    "                 KNeighborsRegressor(n_neighbors  = 10),\n",
    "                 MLPRegressor()\n",
    "            ]"
   ]
  },
  {
   "cell_type": "code",
   "execution_count": 47,
   "id": "6b117fbe",
   "metadata": {},
   "outputs": [
    {
     "name": "stdout",
     "output_type": "stream",
     "text": [
      "[GradientBoostingRegressor(), ElasticNet(), SGDRegressor(), SVR(), BayesianRidge(), KernelRidge(), LGBMRegressor(), LinearRegression(), KNeighborsRegressor(n_neighbors=3), KNeighborsRegressor(), KNeighborsRegressor(n_neighbors=10), MLPRegressor()]\n"
     ]
    }
   ],
   "source": [
    "print(modellist)"
   ]
  },
  {
   "cell_type": "markdown",
   "id": "cff12663",
   "metadata": {},
   "source": [
    "# 8. Use the function to check LinearRegressor and KNeighborsRegressor."
   ]
  },
  {
   "cell_type": "code",
   "execution_count": 48,
   "id": "f2672103",
   "metadata": {
    "scrolled": true
   },
   "outputs": [
    {
     "data": {
      "text/plain": [
       "GradientBoostingRegressor()"
      ]
     },
     "metadata": {},
     "output_type": "display_data"
    },
    {
     "data": {
      "text/html": [
       "<div>\n",
       "<style scoped>\n",
       "    .dataframe tbody tr th:only-of-type {\n",
       "        vertical-align: middle;\n",
       "    }\n",
       "\n",
       "    .dataframe tbody tr th {\n",
       "        vertical-align: top;\n",
       "    }\n",
       "\n",
       "    .dataframe thead th {\n",
       "        text-align: right;\n",
       "    }\n",
       "</style>\n",
       "<table border=\"1\" class=\"dataframe\">\n",
       "  <thead>\n",
       "    <tr style=\"text-align: right;\">\n",
       "      <th></th>\n",
       "      <th>ValType</th>\n",
       "      <th>R2-Score</th>\n",
       "      <th>MSE</th>\n",
       "      <th>RMSE</th>\n",
       "      <th>MAE</th>\n",
       "    </tr>\n",
       "  </thead>\n",
       "  <tbody>\n",
       "    <tr>\n",
       "      <th>0</th>\n",
       "      <td>Train</td>\n",
       "      <td>0.86</td>\n",
       "      <td>11508.00</td>\n",
       "      <td>107.28</td>\n",
       "      <td>73.01</td>\n",
       "    </tr>\n",
       "    <tr>\n",
       "      <th>1</th>\n",
       "      <td>Test</td>\n",
       "      <td>0.84</td>\n",
       "      <td>14212.89</td>\n",
       "      <td>119.22</td>\n",
       "      <td>79.59</td>\n",
       "    </tr>\n",
       "  </tbody>\n",
       "</table>\n",
       "</div>"
      ],
      "text/plain": [
       "  ValType  R2-Score       MSE    RMSE    MAE\n",
       "0   Train      0.86  11508.00  107.28  73.01\n",
       "1    Test      0.84  14212.89  119.22  79.59"
      ]
     },
     "metadata": {},
     "output_type": "display_data"
    },
    {
     "data": {
      "text/plain": [
       "ElasticNet()"
      ]
     },
     "metadata": {},
     "output_type": "display_data"
    },
    {
     "data": {
      "text/html": [
       "<div>\n",
       "<style scoped>\n",
       "    .dataframe tbody tr th:only-of-type {\n",
       "        vertical-align: middle;\n",
       "    }\n",
       "\n",
       "    .dataframe tbody tr th {\n",
       "        vertical-align: top;\n",
       "    }\n",
       "\n",
       "    .dataframe thead th {\n",
       "        text-align: right;\n",
       "    }\n",
       "</style>\n",
       "<table border=\"1\" class=\"dataframe\">\n",
       "  <thead>\n",
       "    <tr style=\"text-align: right;\">\n",
       "      <th></th>\n",
       "      <th>ValType</th>\n",
       "      <th>R2-Score</th>\n",
       "      <th>MSE</th>\n",
       "      <th>RMSE</th>\n",
       "      <th>MAE</th>\n",
       "    </tr>\n",
       "  </thead>\n",
       "  <tbody>\n",
       "    <tr>\n",
       "      <th>0</th>\n",
       "      <td>Train</td>\n",
       "      <td>0.32</td>\n",
       "      <td>56498.00</td>\n",
       "      <td>237.69</td>\n",
       "      <td>164.90</td>\n",
       "    </tr>\n",
       "    <tr>\n",
       "      <th>1</th>\n",
       "      <td>Test</td>\n",
       "      <td>0.30</td>\n",
       "      <td>61174.08</td>\n",
       "      <td>247.33</td>\n",
       "      <td>172.11</td>\n",
       "    </tr>\n",
       "  </tbody>\n",
       "</table>\n",
       "</div>"
      ],
      "text/plain": [
       "  ValType  R2-Score       MSE    RMSE     MAE\n",
       "0   Train      0.32  56498.00  237.69  164.90\n",
       "1    Test      0.30  61174.08  247.33  172.11"
      ]
     },
     "metadata": {},
     "output_type": "display_data"
    },
    {
     "data": {
      "text/plain": [
       "SGDRegressor()"
      ]
     },
     "metadata": {},
     "output_type": "display_data"
    },
    {
     "data": {
      "text/html": [
       "<div>\n",
       "<style scoped>\n",
       "    .dataframe tbody tr th:only-of-type {\n",
       "        vertical-align: middle;\n",
       "    }\n",
       "\n",
       "    .dataframe tbody tr th {\n",
       "        vertical-align: top;\n",
       "    }\n",
       "\n",
       "    .dataframe thead th {\n",
       "        text-align: right;\n",
       "    }\n",
       "</style>\n",
       "<table border=\"1\" class=\"dataframe\">\n",
       "  <thead>\n",
       "    <tr style=\"text-align: right;\">\n",
       "      <th></th>\n",
       "      <th>ValType</th>\n",
       "      <th>R2-Score</th>\n",
       "      <th>MSE</th>\n",
       "      <th>RMSE</th>\n",
       "      <th>MAE</th>\n",
       "    </tr>\n",
       "  </thead>\n",
       "  <tbody>\n",
       "    <tr>\n",
       "      <th>0</th>\n",
       "      <td>Train</td>\n",
       "      <td>0.63</td>\n",
       "      <td>31025.0</td>\n",
       "      <td>176.14</td>\n",
       "      <td>127.93</td>\n",
       "    </tr>\n",
       "    <tr>\n",
       "      <th>1</th>\n",
       "      <td>Test</td>\n",
       "      <td>0.61</td>\n",
       "      <td>34091.9</td>\n",
       "      <td>184.64</td>\n",
       "      <td>135.60</td>\n",
       "    </tr>\n",
       "  </tbody>\n",
       "</table>\n",
       "</div>"
      ],
      "text/plain": [
       "  ValType  R2-Score      MSE    RMSE     MAE\n",
       "0   Train      0.63  31025.0  176.14  127.93\n",
       "1    Test      0.61  34091.9  184.64  135.60"
      ]
     },
     "metadata": {},
     "output_type": "display_data"
    },
    {
     "data": {
      "text/plain": [
       "SVR()"
      ]
     },
     "metadata": {},
     "output_type": "display_data"
    },
    {
     "data": {
      "text/html": [
       "<div>\n",
       "<style scoped>\n",
       "    .dataframe tbody tr th:only-of-type {\n",
       "        vertical-align: middle;\n",
       "    }\n",
       "\n",
       "    .dataframe tbody tr th {\n",
       "        vertical-align: top;\n",
       "    }\n",
       "\n",
       "    .dataframe thead th {\n",
       "        text-align: right;\n",
       "    }\n",
       "</style>\n",
       "<table border=\"1\" class=\"dataframe\">\n",
       "  <thead>\n",
       "    <tr style=\"text-align: right;\">\n",
       "      <th></th>\n",
       "      <th>ValType</th>\n",
       "      <th>R2-Score</th>\n",
       "      <th>MSE</th>\n",
       "      <th>RMSE</th>\n",
       "      <th>MAE</th>\n",
       "    </tr>\n",
       "  </thead>\n",
       "  <tbody>\n",
       "    <tr>\n",
       "      <th>0</th>\n",
       "      <td>Train</td>\n",
       "      <td>0.26</td>\n",
       "      <td>61920.00</td>\n",
       "      <td>248.84</td>\n",
       "      <td>164.40</td>\n",
       "    </tr>\n",
       "    <tr>\n",
       "      <th>1</th>\n",
       "      <td>Test</td>\n",
       "      <td>0.24</td>\n",
       "      <td>66439.86</td>\n",
       "      <td>257.76</td>\n",
       "      <td>169.92</td>\n",
       "    </tr>\n",
       "  </tbody>\n",
       "</table>\n",
       "</div>"
      ],
      "text/plain": [
       "  ValType  R2-Score       MSE    RMSE     MAE\n",
       "0   Train      0.26  61920.00  248.84  164.40\n",
       "1    Test      0.24  66439.86  257.76  169.92"
      ]
     },
     "metadata": {},
     "output_type": "display_data"
    },
    {
     "data": {
      "text/plain": [
       "BayesianRidge()"
      ]
     },
     "metadata": {},
     "output_type": "display_data"
    },
    {
     "data": {
      "text/html": [
       "<div>\n",
       "<style scoped>\n",
       "    .dataframe tbody tr th:only-of-type {\n",
       "        vertical-align: middle;\n",
       "    }\n",
       "\n",
       "    .dataframe tbody tr th {\n",
       "        vertical-align: top;\n",
       "    }\n",
       "\n",
       "    .dataframe thead th {\n",
       "        text-align: right;\n",
       "    }\n",
       "</style>\n",
       "<table border=\"1\" class=\"dataframe\">\n",
       "  <thead>\n",
       "    <tr style=\"text-align: right;\">\n",
       "      <th></th>\n",
       "      <th>ValType</th>\n",
       "      <th>R2-Score</th>\n",
       "      <th>MSE</th>\n",
       "      <th>RMSE</th>\n",
       "      <th>MAE</th>\n",
       "    </tr>\n",
       "  </thead>\n",
       "  <tbody>\n",
       "    <tr>\n",
       "      <th>0</th>\n",
       "      <td>Train</td>\n",
       "      <td>0.63</td>\n",
       "      <td>30736.00</td>\n",
       "      <td>175.32</td>\n",
       "      <td>127.66</td>\n",
       "    </tr>\n",
       "    <tr>\n",
       "      <th>1</th>\n",
       "      <td>Test</td>\n",
       "      <td>0.62</td>\n",
       "      <td>33600.57</td>\n",
       "      <td>183.30</td>\n",
       "      <td>135.25</td>\n",
       "    </tr>\n",
       "  </tbody>\n",
       "</table>\n",
       "</div>"
      ],
      "text/plain": [
       "  ValType  R2-Score       MSE    RMSE     MAE\n",
       "0   Train      0.63  30736.00  175.32  127.66\n",
       "1    Test      0.62  33600.57  183.30  135.25"
      ]
     },
     "metadata": {},
     "output_type": "display_data"
    },
    {
     "data": {
      "text/plain": [
       "KernelRidge()"
      ]
     },
     "metadata": {},
     "output_type": "display_data"
    },
    {
     "data": {
      "text/html": [
       "<div>\n",
       "<style scoped>\n",
       "    .dataframe tbody tr th:only-of-type {\n",
       "        vertical-align: middle;\n",
       "    }\n",
       "\n",
       "    .dataframe tbody tr th {\n",
       "        vertical-align: top;\n",
       "    }\n",
       "\n",
       "    .dataframe thead th {\n",
       "        text-align: right;\n",
       "    }\n",
       "</style>\n",
       "<table border=\"1\" class=\"dataframe\">\n",
       "  <thead>\n",
       "    <tr style=\"text-align: right;\">\n",
       "      <th></th>\n",
       "      <th>ValType</th>\n",
       "      <th>R2-Score</th>\n",
       "      <th>MSE</th>\n",
       "      <th>RMSE</th>\n",
       "      <th>MAE</th>\n",
       "    </tr>\n",
       "  </thead>\n",
       "  <tbody>\n",
       "    <tr>\n",
       "      <th>0</th>\n",
       "      <td>Train</td>\n",
       "      <td>0.60</td>\n",
       "      <td>32976.00</td>\n",
       "      <td>181.59</td>\n",
       "      <td>133.42</td>\n",
       "    </tr>\n",
       "    <tr>\n",
       "      <th>1</th>\n",
       "      <td>Test</td>\n",
       "      <td>0.59</td>\n",
       "      <td>35500.59</td>\n",
       "      <td>188.42</td>\n",
       "      <td>140.85</td>\n",
       "    </tr>\n",
       "  </tbody>\n",
       "</table>\n",
       "</div>"
      ],
      "text/plain": [
       "  ValType  R2-Score       MSE    RMSE     MAE\n",
       "0   Train      0.60  32976.00  181.59  133.42\n",
       "1    Test      0.59  35500.59  188.42  140.85"
      ]
     },
     "metadata": {},
     "output_type": "display_data"
    },
    {
     "data": {
      "text/plain": [
       "LGBMRegressor()"
      ]
     },
     "metadata": {},
     "output_type": "display_data"
    },
    {
     "data": {
      "text/html": [
       "<div>\n",
       "<style scoped>\n",
       "    .dataframe tbody tr th:only-of-type {\n",
       "        vertical-align: middle;\n",
       "    }\n",
       "\n",
       "    .dataframe tbody tr th {\n",
       "        vertical-align: top;\n",
       "    }\n",
       "\n",
       "    .dataframe thead th {\n",
       "        text-align: right;\n",
       "    }\n",
       "</style>\n",
       "<table border=\"1\" class=\"dataframe\">\n",
       "  <thead>\n",
       "    <tr style=\"text-align: right;\">\n",
       "      <th></th>\n",
       "      <th>ValType</th>\n",
       "      <th>R2-Score</th>\n",
       "      <th>MSE</th>\n",
       "      <th>RMSE</th>\n",
       "      <th>MAE</th>\n",
       "    </tr>\n",
       "  </thead>\n",
       "  <tbody>\n",
       "    <tr>\n",
       "      <th>0</th>\n",
       "      <td>Train</td>\n",
       "      <td>0.91</td>\n",
       "      <td>7349.00</td>\n",
       "      <td>85.73</td>\n",
       "      <td>59.47</td>\n",
       "    </tr>\n",
       "    <tr>\n",
       "      <th>1</th>\n",
       "      <td>Test</td>\n",
       "      <td>0.85</td>\n",
       "      <td>13485.01</td>\n",
       "      <td>116.12</td>\n",
       "      <td>76.87</td>\n",
       "    </tr>\n",
       "  </tbody>\n",
       "</table>\n",
       "</div>"
      ],
      "text/plain": [
       "  ValType  R2-Score       MSE    RMSE    MAE\n",
       "0   Train      0.91   7349.00   85.73  59.47\n",
       "1    Test      0.85  13485.01  116.12  76.87"
      ]
     },
     "metadata": {},
     "output_type": "display_data"
    },
    {
     "data": {
      "text/plain": [
       "LinearRegression()"
      ]
     },
     "metadata": {},
     "output_type": "display_data"
    },
    {
     "data": {
      "text/html": [
       "<div>\n",
       "<style scoped>\n",
       "    .dataframe tbody tr th:only-of-type {\n",
       "        vertical-align: middle;\n",
       "    }\n",
       "\n",
       "    .dataframe tbody tr th {\n",
       "        vertical-align: top;\n",
       "    }\n",
       "\n",
       "    .dataframe thead th {\n",
       "        text-align: right;\n",
       "    }\n",
       "</style>\n",
       "<table border=\"1\" class=\"dataframe\">\n",
       "  <thead>\n",
       "    <tr style=\"text-align: right;\">\n",
       "      <th></th>\n",
       "      <th>ValType</th>\n",
       "      <th>R2-Score</th>\n",
       "      <th>MSE</th>\n",
       "      <th>RMSE</th>\n",
       "      <th>MAE</th>\n",
       "    </tr>\n",
       "  </thead>\n",
       "  <tbody>\n",
       "    <tr>\n",
       "      <th>0</th>\n",
       "      <td>Train</td>\n",
       "      <td>0.63</td>\n",
       "      <td>30732.00</td>\n",
       "      <td>175.31</td>\n",
       "      <td>127.67</td>\n",
       "    </tr>\n",
       "    <tr>\n",
       "      <th>1</th>\n",
       "      <td>Test</td>\n",
       "      <td>0.62</td>\n",
       "      <td>33571.52</td>\n",
       "      <td>183.23</td>\n",
       "      <td>135.27</td>\n",
       "    </tr>\n",
       "  </tbody>\n",
       "</table>\n",
       "</div>"
      ],
      "text/plain": [
       "  ValType  R2-Score       MSE    RMSE     MAE\n",
       "0   Train      0.63  30732.00  175.31  127.67\n",
       "1    Test      0.62  33571.52  183.23  135.27"
      ]
     },
     "metadata": {},
     "output_type": "display_data"
    },
    {
     "data": {
      "text/plain": [
       "KNeighborsRegressor(n_neighbors=3)"
      ]
     },
     "metadata": {},
     "output_type": "display_data"
    },
    {
     "data": {
      "text/html": [
       "<div>\n",
       "<style scoped>\n",
       "    .dataframe tbody tr th:only-of-type {\n",
       "        vertical-align: middle;\n",
       "    }\n",
       "\n",
       "    .dataframe tbody tr th {\n",
       "        vertical-align: top;\n",
       "    }\n",
       "\n",
       "    .dataframe thead th {\n",
       "        text-align: right;\n",
       "    }\n",
       "</style>\n",
       "<table border=\"1\" class=\"dataframe\">\n",
       "  <thead>\n",
       "    <tr style=\"text-align: right;\">\n",
       "      <th></th>\n",
       "      <th>ValType</th>\n",
       "      <th>R2-Score</th>\n",
       "      <th>MSE</th>\n",
       "      <th>RMSE</th>\n",
       "      <th>MAE</th>\n",
       "    </tr>\n",
       "  </thead>\n",
       "  <tbody>\n",
       "    <tr>\n",
       "      <th>0</th>\n",
       "      <td>Train</td>\n",
       "      <td>0.79</td>\n",
       "      <td>17564.0</td>\n",
       "      <td>132.53</td>\n",
       "      <td>80.71</td>\n",
       "    </tr>\n",
       "    <tr>\n",
       "      <th>1</th>\n",
       "      <td>Test</td>\n",
       "      <td>0.51</td>\n",
       "      <td>42563.3</td>\n",
       "      <td>206.31</td>\n",
       "      <td>123.26</td>\n",
       "    </tr>\n",
       "  </tbody>\n",
       "</table>\n",
       "</div>"
      ],
      "text/plain": [
       "  ValType  R2-Score      MSE    RMSE     MAE\n",
       "0   Train      0.79  17564.0  132.53   80.71\n",
       "1    Test      0.51  42563.3  206.31  123.26"
      ]
     },
     "metadata": {},
     "output_type": "display_data"
    },
    {
     "data": {
      "text/plain": [
       "KNeighborsRegressor()"
      ]
     },
     "metadata": {},
     "output_type": "display_data"
    },
    {
     "data": {
      "text/html": [
       "<div>\n",
       "<style scoped>\n",
       "    .dataframe tbody tr th:only-of-type {\n",
       "        vertical-align: middle;\n",
       "    }\n",
       "\n",
       "    .dataframe tbody tr th {\n",
       "        vertical-align: top;\n",
       "    }\n",
       "\n",
       "    .dataframe thead th {\n",
       "        text-align: right;\n",
       "    }\n",
       "</style>\n",
       "<table border=\"1\" class=\"dataframe\">\n",
       "  <thead>\n",
       "    <tr style=\"text-align: right;\">\n",
       "      <th></th>\n",
       "      <th>ValType</th>\n",
       "      <th>R2-Score</th>\n",
       "      <th>MSE</th>\n",
       "      <th>RMSE</th>\n",
       "      <th>MAE</th>\n",
       "    </tr>\n",
       "  </thead>\n",
       "  <tbody>\n",
       "    <tr>\n",
       "      <th>0</th>\n",
       "      <td>Train</td>\n",
       "      <td>0.73</td>\n",
       "      <td>22143.00</td>\n",
       "      <td>148.81</td>\n",
       "      <td>91.39</td>\n",
       "    </tr>\n",
       "    <tr>\n",
       "      <th>1</th>\n",
       "      <td>Test</td>\n",
       "      <td>0.57</td>\n",
       "      <td>37456.72</td>\n",
       "      <td>193.54</td>\n",
       "      <td>117.53</td>\n",
       "    </tr>\n",
       "  </tbody>\n",
       "</table>\n",
       "</div>"
      ],
      "text/plain": [
       "  ValType  R2-Score       MSE    RMSE     MAE\n",
       "0   Train      0.73  22143.00  148.81   91.39\n",
       "1    Test      0.57  37456.72  193.54  117.53"
      ]
     },
     "metadata": {},
     "output_type": "display_data"
    },
    {
     "data": {
      "text/plain": [
       "KNeighborsRegressor(n_neighbors=10)"
      ]
     },
     "metadata": {},
     "output_type": "display_data"
    },
    {
     "data": {
      "text/html": [
       "<div>\n",
       "<style scoped>\n",
       "    .dataframe tbody tr th:only-of-type {\n",
       "        vertical-align: middle;\n",
       "    }\n",
       "\n",
       "    .dataframe tbody tr th {\n",
       "        vertical-align: top;\n",
       "    }\n",
       "\n",
       "    .dataframe thead th {\n",
       "        text-align: right;\n",
       "    }\n",
       "</style>\n",
       "<table border=\"1\" class=\"dataframe\">\n",
       "  <thead>\n",
       "    <tr style=\"text-align: right;\">\n",
       "      <th></th>\n",
       "      <th>ValType</th>\n",
       "      <th>R2-Score</th>\n",
       "      <th>MSE</th>\n",
       "      <th>RMSE</th>\n",
       "      <th>MAE</th>\n",
       "    </tr>\n",
       "  </thead>\n",
       "  <tbody>\n",
       "    <tr>\n",
       "      <th>0</th>\n",
       "      <td>Train</td>\n",
       "      <td>0.67</td>\n",
       "      <td>27113.00</td>\n",
       "      <td>164.66</td>\n",
       "      <td>102.78</td>\n",
       "    </tr>\n",
       "    <tr>\n",
       "      <th>1</th>\n",
       "      <td>Test</td>\n",
       "      <td>0.59</td>\n",
       "      <td>36197.39</td>\n",
       "      <td>190.26</td>\n",
       "      <td>119.02</td>\n",
       "    </tr>\n",
       "  </tbody>\n",
       "</table>\n",
       "</div>"
      ],
      "text/plain": [
       "  ValType  R2-Score       MSE    RMSE     MAE\n",
       "0   Train      0.67  27113.00  164.66  102.78\n",
       "1    Test      0.59  36197.39  190.26  119.02"
      ]
     },
     "metadata": {},
     "output_type": "display_data"
    },
    {
     "name": "stderr",
     "output_type": "stream",
     "text": [
      "D:\\Users\\Giancarlo\\anaconda3\\lib\\site-packages\\sklearn\\neural_network\\_multilayer_perceptron.py:692: ConvergenceWarning: Stochastic Optimizer: Maximum iterations (200) reached and the optimization hasn't converged yet.\n",
      "  warnings.warn(\n"
     ]
    },
    {
     "data": {
      "text/plain": [
       "MLPRegressor()"
      ]
     },
     "metadata": {},
     "output_type": "display_data"
    },
    {
     "data": {
      "text/html": [
       "<div>\n",
       "<style scoped>\n",
       "    .dataframe tbody tr th:only-of-type {\n",
       "        vertical-align: middle;\n",
       "    }\n",
       "\n",
       "    .dataframe tbody tr th {\n",
       "        vertical-align: top;\n",
       "    }\n",
       "\n",
       "    .dataframe thead th {\n",
       "        text-align: right;\n",
       "    }\n",
       "</style>\n",
       "<table border=\"1\" class=\"dataframe\">\n",
       "  <thead>\n",
       "    <tr style=\"text-align: right;\">\n",
       "      <th></th>\n",
       "      <th>ValType</th>\n",
       "      <th>R2-Score</th>\n",
       "      <th>MSE</th>\n",
       "      <th>RMSE</th>\n",
       "      <th>MAE</th>\n",
       "    </tr>\n",
       "  </thead>\n",
       "  <tbody>\n",
       "    <tr>\n",
       "      <th>0</th>\n",
       "      <td>Train</td>\n",
       "      <td>0.72</td>\n",
       "      <td>22953.00</td>\n",
       "      <td>151.50</td>\n",
       "      <td>101.53</td>\n",
       "    </tr>\n",
       "    <tr>\n",
       "      <th>1</th>\n",
       "      <td>Test</td>\n",
       "      <td>0.71</td>\n",
       "      <td>25373.89</td>\n",
       "      <td>159.29</td>\n",
       "      <td>106.90</td>\n",
       "    </tr>\n",
       "  </tbody>\n",
       "</table>\n",
       "</div>"
      ],
      "text/plain": [
       "  ValType  R2-Score       MSE    RMSE     MAE\n",
       "0   Train      0.72  22953.00  151.50  101.53\n",
       "1    Test      0.71  25373.89  159.29  106.90"
      ]
     },
     "metadata": {},
     "output_type": "display_data"
    }
   ],
   "source": [
    "model_test(modellist)"
   ]
  },
  {
   "cell_type": "code",
   "execution_count": null,
   "id": "ff3b7b05",
   "metadata": {},
   "outputs": [],
   "source": []
  },
  {
   "cell_type": "code",
   "execution_count": null,
   "id": "e7185e2e",
   "metadata": {},
   "outputs": [],
   "source": []
  }
 ],
 "metadata": {
  "kernelspec": {
   "display_name": "Python 3 (ipykernel)",
   "language": "python",
   "name": "python3"
  },
  "language_info": {
   "codemirror_mode": {
    "name": "ipython",
    "version": 3
   },
   "file_extension": ".py",
   "mimetype": "text/x-python",
   "name": "python",
   "nbconvert_exporter": "python",
   "pygments_lexer": "ipython3",
   "version": "3.9.13"
  }
 },
 "nbformat": 4,
 "nbformat_minor": 5
}
